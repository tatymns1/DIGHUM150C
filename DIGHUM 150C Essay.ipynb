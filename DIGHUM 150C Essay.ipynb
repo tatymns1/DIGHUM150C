{
 "cells": [
  {
   "cell_type": "markdown",
   "metadata": {},
   "source": [
    "# Examining Feminity: An Analysis of Alice in Wonderland"
   ]
  },
  {
   "cell_type": "markdown",
   "metadata": {},
   "source": [
    "#### By Tatymn Chen Snider"
   ]
  },
  {
   "cell_type": "markdown",
   "metadata": {},
   "source": [
    "##### Introduction\n",
    "Growing up, _Alice in Wonderland_ was one of my favorite childhood books. I usued to sit on my bed or under trees taking in with wonder all of her odd adventures in worlds that were parallel to our own. This book, along with many others, was my introduction to literature--and in a way, in sparked my lifelong interest in the humanities.\n",
    "\n"
   ]
  },
  {
   "cell_type": "code",
   "execution_count": 3,
   "metadata": {},
   "outputs": [],
   "source": [
    "import requests\n",
    "import json\n",
    "import nltk"
   ]
  },
  {
   "cell_type": "code",
   "execution_count": 4,
   "metadata": {},
   "outputs": [],
   "source": [
    "wonderMetaUrl = \"http://corpus-db.org/api/id/35688.0\"\n",
    "wonderTextUrl = wonderMetaUrl + '/fulltext'"
   ]
  },
  {
   "cell_type": "code",
   "execution_count": 5,
   "metadata": {},
   "outputs": [],
   "source": [
    "response = requests.get(wonderMetaUrl)\n",
    "wonderMeta = json.loads(response.text)"
   ]
  },
  {
   "cell_type": "code",
   "execution_count": 6,
   "metadata": {},
   "outputs": [],
   "source": [
    "response = requests.get(wonderTextUrl)\n",
    "if response.ok: \n",
    "    wonderText = json.loads(response.text)"
   ]
  },
  {
   "cell_type": "code",
   "execution_count": 7,
   "metadata": {},
   "outputs": [],
   "source": [
    "wonder = wonderText[0]['text']"
   ]
  },
  {
   "cell_type": "code",
   "execution_count": 8,
   "metadata": {},
   "outputs": [],
   "source": [
    "glassMetaUrl = \"http://corpus-db.org/api/id/12.0\"\n",
    "glassTextUrl = glassMetaUrl + '/fulltext'"
   ]
  },
  {
   "cell_type": "code",
   "execution_count": 9,
   "metadata": {},
   "outputs": [],
   "source": [
    "response = requests.get(glassMetaUrl)\n",
    "glassMeta = json.loads(response.text)"
   ]
  },
  {
   "cell_type": "code",
   "execution_count": 10,
   "metadata": {},
   "outputs": [],
   "source": [
    "response = requests.get(glassTextUrl)\n",
    "if response.ok: \n",
    "    glassText = json.loads(response.text)"
   ]
  },
  {
   "cell_type": "code",
   "execution_count": 11,
   "metadata": {},
   "outputs": [],
   "source": [
    "glass = glassText[0]['text']"
   ]
  },
  {
   "cell_type": "code",
   "execution_count": 12,
   "metadata": {},
   "outputs": [],
   "source": [
    "def avgWordsPerSentence(text): \n",
    "    sentences = nltk.sent_tokenize(text)\n",
    "    numWordsList = [len(nltk.word_tokenize(sent)) for sent in sentences]\n",
    "    return sum(numWordsList)/len(numWordsList)"
   ]
  },
  {
   "cell_type": "code",
   "execution_count": 13,
   "metadata": {},
   "outputs": [],
   "source": [
    "corpora = {wonder, glass}"
   ]
  },
  {
   "cell_type": "code",
   "execution_count": 14,
   "metadata": {},
   "outputs": [
    {
     "data": {
      "text/plain": [
       "84416"
      ]
     },
     "execution_count": 14,
     "metadata": {},
     "output_type": "execute_result"
    }
   ],
   "source": [
    "len(wonder)"
   ]
  },
  {
   "cell_type": "code",
   "execution_count": 15,
   "metadata": {},
   "outputs": [
    {
     "data": {
      "text/plain": [
       "162219"
      ]
     },
     "execution_count": 15,
     "metadata": {},
     "output_type": "execute_result"
    }
   ],
   "source": [
    "len(glass)"
   ]
  },
  {
   "cell_type": "code",
   "execution_count": 16,
   "metadata": {},
   "outputs": [
    {
     "data": {
      "text/plain": [
       "14.318042813455657"
      ]
     },
     "execution_count": 16,
     "metadata": {},
     "output_type": "execute_result"
    }
   ],
   "source": [
    "avgWordsPerSentence(wonder)"
   ]
  },
  {
   "cell_type": "code",
   "execution_count": 17,
   "metadata": {},
   "outputs": [
    {
     "ename": "NameError",
     "evalue": "name 'under' is not defined",
     "output_type": "error",
     "traceback": [
      "\u001b[0;31m---------------------------------------------------------------------------\u001b[0m",
      "\u001b[0;31mNameError\u001b[0m                                 Traceback (most recent call last)",
      "\u001b[0;32m<ipython-input-17-7a37e19bb2bd>\u001b[0m in \u001b[0;36m<module>\u001b[0;34m\u001b[0m\n\u001b[0;32m----> 1\u001b[0;31m \u001b[0mavgWordsPerSentence\u001b[0m\u001b[0;34m(\u001b[0m\u001b[0munder\u001b[0m\u001b[0;34m)\u001b[0m\u001b[0;34m\u001b[0m\u001b[0;34m\u001b[0m\u001b[0m\n\u001b[0m",
      "\u001b[0;31mNameError\u001b[0m: name 'under' is not defined"
     ]
    }
   ],
   "source": [
    "avgWordsPerSentence(under)"
   ]
  },
  {
   "cell_type": "code",
   "execution_count": null,
   "metadata": {},
   "outputs": [],
   "source": [
    "def location(pairs):\n",
    "    matches = []\n",
    "    for i, pair in enumerate(pairs): \n",
    "        word = pair[0]\n",
    "        pos = pair[1]\n",
    "        if i<len(pairs)-2:\n",
    "            nextWord = pairs[i+1][0]\n",
    "            nextNextWord = pairs[i+2][0]\n",
    "            nextNextPOS = pairs[i+2][1]\n",
    "            if word == \"in\" and nextWord == \"the\" and nextNextPOS == 'NN': \n",
    "                matches.append([word, nextWord, nextNextWord])\n",
    "    return matches"
   ]
  },
  {
   "cell_type": "code",
   "execution_count": 23,
   "metadata": {},
   "outputs": [],
   "source": [
    "wonderText = nltk.Text(nltk.word_tokenize(wonder.lower()))\n",
    "glassText = nltk.Text(nltk.word_tokenize(glass.lower()))"
   ]
  },
  {
   "cell_type": "code",
   "execution_count": 24,
   "metadata": {},
   "outputs": [],
   "source": [
    "wonderTags = nltk.pos_tag(wonder)\n",
    "glassTags = nltk.pos_tag(glass)"
   ]
  },
  {
   "cell_type": "code",
   "execution_count": 25,
   "metadata": {},
   "outputs": [
    {
     "data": {
      "text/plain": [
       "<Figure size 640x480 with 1 Axes>"
      ]
     },
     "metadata": {},
     "output_type": "display_data"
    }
   ],
   "source": [
    "wonderText.dispersion_plot(['body', 'ear', 'eye', 'hand', 'foot', 'mouth'])"
   ]
  },
  {
   "cell_type": "code",
   "execution_count": 29,
   "metadata": {},
   "outputs": [
    {
     "data": {
      "image/png": "[encoded data removed]",
      "text/plain": [
       "<Figure size 432x288 with 1 Axes>"
      ]
     },
     "metadata": {
      "needs_background": "light"
     },
     "output_type": "display_data"
    }
   ],
   "source": [
    "glassText.dispersion_plot(['body', 'ear', 'eye', 'hand', 'foot', 'mouth'])"
   ]
  },
  {
   "cell_type": "code",
   "execution_count": 30,
   "metadata": {},
   "outputs": [
    {
     "name": "stdout",
     "output_type": "stream",
     "text": [
      "Displaying 2 of 2 matches:\n",
      "? knave what does it matter where my body happens to be ? my mind goes on work\n",
      "n't cut off a head unless there 's a body to cut it off from . king anything t\n",
      "no matches\n",
      "Displaying 1 of 1 matches:\n",
      " dum._ ] the eldest oyster winked his eye and shook his heavy head -- dum [ _lo\n",
      "Displaying 9 of 9 matches:\n",
      "at , carries white kid gloves in one hand , a fan in the other and takes out h\n",
      "_he leans forward to offer alice his hand but she is too small to reach it._ ]\n",
      "s fight till dinner . [ _they go out hand in hand._ ] alice [ _hears music._ ]\n",
      "it at all ; however , it may kiss my hand if it likes . cat i 'd rather not . \n",
      "he white rabbit has a trumpet in one hand , and a scroll of parchment in the o\n",
      "ter [ _comes in with a teacup in one hand and a piece of bread and butter in t\n",
      "hite rabbit [ _looks at the knave 's hand . knave hides his hand ; the chains \n",
      " the knave 's hand . knave hides his hand ; the chains rattle._ ] no , they 'r\n",
      " must have imitated somebody else 's hand ! knave please , your majesty , i di\n",
      "Displaying 2 of 2 matches:\n",
      "ok at their big feet . alice it 's a foot apiece , that 's what it is ! do the\n",
      "ontinues to shift nervously from one foot to the other , looks uneasily at the\n",
      "Displaying 4 of 4 matches:\n",
      "me for you to answer now ; open your mouth a _little_ wider when you speak , an\n",
      "o eyes -- so -- nose in the middle , mouth under . it 's always the same . now \n",
      "of the nose , for instance -- or the mouth at the top -- that would be _some_ h\n",
      "ilence ; finally takes it out of his mouth and unfolds his arms._ ] so you thin\n"
     ]
    },
    {
     "data": {
      "text/plain": [
       "[None, None, None, None, None, None]"
      ]
     },
     "execution_count": 30,
     "metadata": {},
     "output_type": "execute_result"
    }
   ],
   "source": [
    "[wonderText.concordance(word) for word in ['body', 'ear', 'eye', 'hand', 'foot', 'mouth']]"
   ]
  },
  {
   "cell_type": "code",
   "execution_count": null,
   "metadata": {},
   "outputs": [],
   "source": []
  }
 ],
 "metadata": {
  "kernelspec": {
   "display_name": "Python 3",
   "language": "python",
   "name": "python3"
  },
  "language_info": {
   "codemirror_mode": {
    "name": "ipython",
    "version": 3
   },
   "file_extension": ".py",
   "mimetype": "text/x-python",
   "name": "python",
   "nbconvert_exporter": "python",
   "pygments_lexer": "ipython3",
   "version": "3.7.3"
  }
 },
 "nbformat": 4,
 "nbformat_minor": 2
}
